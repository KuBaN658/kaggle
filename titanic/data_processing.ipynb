{
 "cells": [
  {
   "cell_type": "code",
   "execution_count": 962,
   "id": "4886a875-fb45-41cd-b0f8-87b02efe527b",
   "metadata": {
    "tags": []
   },
   "outputs": [],
   "source": [
    "import matplotlib.pyplot as plt\n",
    "import numpy as np\n",
    "import pandas as pd\n",
    "import seaborn as sns"
   ]
  },
  {
   "cell_type": "code",
   "execution_count": 963,
   "id": "045fdf61-4667-4ecd-be62-e8bcc0ba4964",
   "metadata": {
    "tags": []
   },
   "outputs": [
    {
     "data": {
      "text/html": [
       "<div>\n",
       "<style scoped>\n",
       "    .dataframe tbody tr th:only-of-type {\n",
       "        vertical-align: middle;\n",
       "    }\n",
       "\n",
       "    .dataframe tbody tr th {\n",
       "        vertical-align: top;\n",
       "    }\n",
       "\n",
       "    .dataframe thead th {\n",
       "        text-align: right;\n",
       "    }\n",
       "</style>\n",
       "<table border=\"1\" class=\"dataframe\">\n",
       "  <thead>\n",
       "    <tr style=\"text-align: right;\">\n",
       "      <th></th>\n",
       "      <th>Survived</th>\n",
       "      <th>Pclass</th>\n",
       "      <th>Name</th>\n",
       "      <th>Sex</th>\n",
       "      <th>Age</th>\n",
       "      <th>SibSp</th>\n",
       "      <th>Parch</th>\n",
       "      <th>Ticket</th>\n",
       "      <th>Fare</th>\n",
       "      <th>Cabin</th>\n",
       "      <th>Embarked</th>\n",
       "    </tr>\n",
       "    <tr>\n",
       "      <th>PassengerId</th>\n",
       "      <th></th>\n",
       "      <th></th>\n",
       "      <th></th>\n",
       "      <th></th>\n",
       "      <th></th>\n",
       "      <th></th>\n",
       "      <th></th>\n",
       "      <th></th>\n",
       "      <th></th>\n",
       "      <th></th>\n",
       "      <th></th>\n",
       "    </tr>\n",
       "  </thead>\n",
       "  <tbody>\n",
       "    <tr>\n",
       "      <th>243</th>\n",
       "      <td>0</td>\n",
       "      <td>2</td>\n",
       "      <td>Coleridge, Mr. Reginald Charles</td>\n",
       "      <td>male</td>\n",
       "      <td>29.0</td>\n",
       "      <td>0</td>\n",
       "      <td>0</td>\n",
       "      <td>W./C. 14263</td>\n",
       "      <td>10.5000</td>\n",
       "      <td>NaN</td>\n",
       "      <td>S</td>\n",
       "    </tr>\n",
       "    <tr>\n",
       "      <th>805</th>\n",
       "      <td>1</td>\n",
       "      <td>3</td>\n",
       "      <td>Hedman, Mr. Oskar Arvid</td>\n",
       "      <td>male</td>\n",
       "      <td>27.0</td>\n",
       "      <td>0</td>\n",
       "      <td>0</td>\n",
       "      <td>347089</td>\n",
       "      <td>6.9750</td>\n",
       "      <td>NaN</td>\n",
       "      <td>S</td>\n",
       "    </tr>\n",
       "    <tr>\n",
       "      <th>121</th>\n",
       "      <td>0</td>\n",
       "      <td>2</td>\n",
       "      <td>Hickman, Mr. Stanley George</td>\n",
       "      <td>male</td>\n",
       "      <td>21.0</td>\n",
       "      <td>2</td>\n",
       "      <td>0</td>\n",
       "      <td>S.O.C. 14879</td>\n",
       "      <td>73.5000</td>\n",
       "      <td>NaN</td>\n",
       "      <td>S</td>\n",
       "    </tr>\n",
       "    <tr>\n",
       "      <th>276</th>\n",
       "      <td>1</td>\n",
       "      <td>1</td>\n",
       "      <td>Andrews, Miss. Kornelia Theodosia</td>\n",
       "      <td>female</td>\n",
       "      <td>63.0</td>\n",
       "      <td>1</td>\n",
       "      <td>0</td>\n",
       "      <td>13502</td>\n",
       "      <td>77.9583</td>\n",
       "      <td>D7</td>\n",
       "      <td>S</td>\n",
       "    </tr>\n",
       "    <tr>\n",
       "      <th>752</th>\n",
       "      <td>1</td>\n",
       "      <td>3</td>\n",
       "      <td>Moor, Master. Meier</td>\n",
       "      <td>male</td>\n",
       "      <td>6.0</td>\n",
       "      <td>0</td>\n",
       "      <td>1</td>\n",
       "      <td>392096</td>\n",
       "      <td>12.4750</td>\n",
       "      <td>E121</td>\n",
       "      <td>S</td>\n",
       "    </tr>\n",
       "  </tbody>\n",
       "</table>\n",
       "</div>"
      ],
      "text/plain": [
       "             Survived  Pclass                               Name     Sex  \\\n",
       "PassengerId                                                                \n",
       "243                 0       2    Coleridge, Mr. Reginald Charles    male   \n",
       "805                 1       3            Hedman, Mr. Oskar Arvid    male   \n",
       "121                 0       2        Hickman, Mr. Stanley George    male   \n",
       "276                 1       1  Andrews, Miss. Kornelia Theodosia  female   \n",
       "752                 1       3                Moor, Master. Meier    male   \n",
       "\n",
       "              Age  SibSp  Parch        Ticket     Fare Cabin Embarked  \n",
       "PassengerId                                                            \n",
       "243          29.0      0      0   W./C. 14263  10.5000   NaN        S  \n",
       "805          27.0      0      0        347089   6.9750   NaN        S  \n",
       "121          21.0      2      0  S.O.C. 14879  73.5000   NaN        S  \n",
       "276          63.0      1      0         13502  77.9583    D7        S  \n",
       "752           6.0      0      1        392096  12.4750  E121        S  "
      ]
     },
     "execution_count": 963,
     "metadata": {},
     "output_type": "execute_result"
    }
   ],
   "source": [
    "X_train = pd.read_csv('data/train.csv', index_col='PassengerId')\n",
    "X_test = pd.read_csv('data/test.csv', index_col='PassengerId')\n",
    "twix = (X_train, X_test)\n",
    "X_train.sample(5)"
   ]
  },
  {
   "cell_type": "code",
   "execution_count": 964,
   "id": "bdef88f1-056f-419d-8131-86151ab8939e",
   "metadata": {
    "tags": []
   },
   "outputs": [
    {
     "data": {
      "text/html": [
       "<div>\n",
       "<style scoped>\n",
       "    .dataframe tbody tr th:only-of-type {\n",
       "        vertical-align: middle;\n",
       "    }\n",
       "\n",
       "    .dataframe tbody tr th {\n",
       "        vertical-align: top;\n",
       "    }\n",
       "\n",
       "    .dataframe thead th {\n",
       "        text-align: right;\n",
       "    }\n",
       "</style>\n",
       "<table border=\"1\" class=\"dataframe\">\n",
       "  <thead>\n",
       "    <tr style=\"text-align: right;\">\n",
       "      <th></th>\n",
       "      <th>Pclass</th>\n",
       "      <th>Name</th>\n",
       "      <th>Sex</th>\n",
       "      <th>Age</th>\n",
       "      <th>SibSp</th>\n",
       "      <th>Parch</th>\n",
       "      <th>Ticket</th>\n",
       "      <th>Fare</th>\n",
       "      <th>Cabin</th>\n",
       "      <th>Embarked</th>\n",
       "    </tr>\n",
       "    <tr>\n",
       "      <th>PassengerId</th>\n",
       "      <th></th>\n",
       "      <th></th>\n",
       "      <th></th>\n",
       "      <th></th>\n",
       "      <th></th>\n",
       "      <th></th>\n",
       "      <th></th>\n",
       "      <th></th>\n",
       "      <th></th>\n",
       "      <th></th>\n",
       "    </tr>\n",
       "  </thead>\n",
       "  <tbody>\n",
       "    <tr>\n",
       "      <th>1067</th>\n",
       "      <td>2</td>\n",
       "      <td>Brown, Miss. Edith Eileen</td>\n",
       "      <td>female</td>\n",
       "      <td>15.0</td>\n",
       "      <td>0</td>\n",
       "      <td>2</td>\n",
       "      <td>29750</td>\n",
       "      <td>39.00</td>\n",
       "      <td>NaN</td>\n",
       "      <td>S</td>\n",
       "    </tr>\n",
       "    <tr>\n",
       "      <th>1021</th>\n",
       "      <td>3</td>\n",
       "      <td>Petersen, Mr. Marius</td>\n",
       "      <td>male</td>\n",
       "      <td>24.0</td>\n",
       "      <td>0</td>\n",
       "      <td>0</td>\n",
       "      <td>342441</td>\n",
       "      <td>8.05</td>\n",
       "      <td>NaN</td>\n",
       "      <td>S</td>\n",
       "    </tr>\n",
       "    <tr>\n",
       "      <th>917</th>\n",
       "      <td>3</td>\n",
       "      <td>Robins, Mr. Alexander A</td>\n",
       "      <td>male</td>\n",
       "      <td>50.0</td>\n",
       "      <td>1</td>\n",
       "      <td>0</td>\n",
       "      <td>A/5. 3337</td>\n",
       "      <td>14.50</td>\n",
       "      <td>NaN</td>\n",
       "      <td>S</td>\n",
       "    </tr>\n",
       "    <tr>\n",
       "      <th>981</th>\n",
       "      <td>2</td>\n",
       "      <td>Wells, Master. Ralph Lester</td>\n",
       "      <td>male</td>\n",
       "      <td>2.0</td>\n",
       "      <td>1</td>\n",
       "      <td>1</td>\n",
       "      <td>29103</td>\n",
       "      <td>23.00</td>\n",
       "      <td>NaN</td>\n",
       "      <td>S</td>\n",
       "    </tr>\n",
       "    <tr>\n",
       "      <th>1196</th>\n",
       "      <td>3</td>\n",
       "      <td>McCarthy, Miss. Catherine Katie\"\"</td>\n",
       "      <td>female</td>\n",
       "      <td>NaN</td>\n",
       "      <td>0</td>\n",
       "      <td>0</td>\n",
       "      <td>383123</td>\n",
       "      <td>7.75</td>\n",
       "      <td>NaN</td>\n",
       "      <td>Q</td>\n",
       "    </tr>\n",
       "  </tbody>\n",
       "</table>\n",
       "</div>"
      ],
      "text/plain": [
       "             Pclass                               Name     Sex   Age  SibSp  \\\n",
       "PassengerId                                                                   \n",
       "1067              2          Brown, Miss. Edith Eileen  female  15.0      0   \n",
       "1021              3               Petersen, Mr. Marius    male  24.0      0   \n",
       "917               3            Robins, Mr. Alexander A    male  50.0      1   \n",
       "981               2        Wells, Master. Ralph Lester    male   2.0      1   \n",
       "1196              3  McCarthy, Miss. Catherine Katie\"\"  female   NaN      0   \n",
       "\n",
       "             Parch     Ticket   Fare Cabin Embarked  \n",
       "PassengerId                                          \n",
       "1067             2      29750  39.00   NaN        S  \n",
       "1021             0     342441   8.05   NaN        S  \n",
       "917              0  A/5. 3337  14.50   NaN        S  \n",
       "981              1      29103  23.00   NaN        S  \n",
       "1196             0     383123   7.75   NaN        Q  "
      ]
     },
     "execution_count": 964,
     "metadata": {},
     "output_type": "execute_result"
    }
   ],
   "source": [
    "X_test.sample(5)"
   ]
  },
  {
   "cell_type": "code",
   "execution_count": 965,
   "id": "175f62fe-6ac5-4cfe-bc63-830d8151af3c",
   "metadata": {
    "tags": []
   },
   "outputs": [
    {
     "name": "stdout",
     "output_type": "stream",
     "text": [
      "<class 'pandas.core.frame.DataFrame'>\n",
      "Int64Index: 891 entries, 1 to 891\n",
      "Data columns (total 11 columns):\n",
      " #   Column    Non-Null Count  Dtype  \n",
      "---  ------    --------------  -----  \n",
      " 0   Survived  891 non-null    int64  \n",
      " 1   Pclass    891 non-null    int64  \n",
      " 2   Name      891 non-null    object \n",
      " 3   Sex       891 non-null    object \n",
      " 4   Age       714 non-null    float64\n",
      " 5   SibSp     891 non-null    int64  \n",
      " 6   Parch     891 non-null    int64  \n",
      " 7   Ticket    891 non-null    object \n",
      " 8   Fare      891 non-null    float64\n",
      " 9   Cabin     204 non-null    object \n",
      " 10  Embarked  889 non-null    object \n",
      "dtypes: float64(2), int64(4), object(5)\n",
      "memory usage: 83.5+ KB\n",
      "----------------------------------------\n",
      "<class 'pandas.core.frame.DataFrame'>\n",
      "Int64Index: 418 entries, 892 to 1309\n",
      "Data columns (total 10 columns):\n",
      " #   Column    Non-Null Count  Dtype  \n",
      "---  ------    --------------  -----  \n",
      " 0   Pclass    418 non-null    int64  \n",
      " 1   Name      418 non-null    object \n",
      " 2   Sex       418 non-null    object \n",
      " 3   Age       332 non-null    float64\n",
      " 4   SibSp     418 non-null    int64  \n",
      " 5   Parch     418 non-null    int64  \n",
      " 6   Ticket    418 non-null    object \n",
      " 7   Fare      417 non-null    float64\n",
      " 8   Cabin     91 non-null     object \n",
      " 9   Embarked  418 non-null    object \n",
      "dtypes: float64(2), int64(3), object(5)\n",
      "memory usage: 35.9+ KB\n"
     ]
    }
   ],
   "source": [
    "X_train.info()\n",
    "print('-' * 40)\n",
    "X_test.info()"
   ]
  },
  {
   "cell_type": "code",
   "execution_count": 966,
   "id": "17a37a57-37ca-4490-aa2e-4f3a4d6e719f",
   "metadata": {
    "tags": []
   },
   "outputs": [],
   "source": [
    "def compute_ticket(ticket):\n",
    "    ticket = ticket.split()\n",
    "    return ticket[0] if len(ticket) > 1 else None\n",
    "for X in twix:\n",
    "    X[\"label\"] = X.Ticket.apply(compute_ticket)"
   ]
  },
  {
   "cell_type": "code",
   "execution_count": 967,
   "id": "9fec2795-fb0a-4b1d-aadb-7be1237a88eb",
   "metadata": {
    "tags": []
   },
   "outputs": [],
   "source": [
    "for X in twix:\n",
    "    X.loc[(X.label == 'C.A.') | (X.label == 'CA.') | (X.label == 'CA') | (X.label == 'C.A./SOTON'), 'label'] = 'CA'"
   ]
  },
  {
   "cell_type": "code",
   "execution_count": 968,
   "id": "cfa06f52-09e1-41c3-9d51-965983c55fbc",
   "metadata": {
    "tags": []
   },
   "outputs": [],
   "source": [
    "for X in twix:\n",
    "    X.loc[(X.label == 'STON/O') | (X.label == 'SOTON/O.Q.') | (X.label == 'SOTON/OQ') | (X.label == 'STON/O2.') | (X.label == 'SOTON/O2'), 'label'] = 'SOTON'"
   ]
  },
  {
   "cell_type": "code",
   "execution_count": 969,
   "id": "348269d1-3935-464b-a68d-fa711666bd4d",
   "metadata": {
    "tags": []
   },
   "outputs": [],
   "source": [
    "for X in twix:\n",
    "    X.loc[(X.label == 'A/5.') | (X.label == 'A./5.') | (X.label == 'A.5.'), 'label'] = 'A/5'"
   ]
  },
  {
   "cell_type": "code",
   "execution_count": 970,
   "id": "4763db15-1c88-45a7-86e6-709b81089c27",
   "metadata": {
    "tags": []
   },
   "outputs": [],
   "source": [
    "for X in twix:\n",
    "    X.loc[(X.label == 'W./C.'), 'label'] = 'W/C'"
   ]
  },
  {
   "cell_type": "code",
   "execution_count": 971,
   "id": "d3ac7684-4e1e-4e78-aabb-567a08bef901",
   "metadata": {
    "tags": []
   },
   "outputs": [],
   "source": [
    "for X in twix:\n",
    "    X.loc[(X.label == 'SC/Paris') | (X.label == 'S.C./PARIS') | (X.label == 'SC/AH') | (X.label == 'SC'), 'label'] = 'SC/PARIS'"
   ]
  },
  {
   "cell_type": "code",
   "execution_count": 972,
   "id": "a89f543a-ad9b-45cf-ad5f-5868fc8f1720",
   "metadata": {
    "tags": []
   },
   "outputs": [],
   "source": [
    "for X in twix:\n",
    "    X.loc[(X.label == 'A/4.') | (X.label == 'A4.') | (X.label == 'A/4'), 'label'] = 'A/5'"
   ]
  },
  {
   "cell_type": "code",
   "execution_count": 973,
   "id": "16d61168-bb9e-414f-abef-0180bd8cd2da",
   "metadata": {
    "tags": []
   },
   "outputs": [],
   "source": [
    "for X in twix:\n",
    "    X.loc[(X.label != 'CA') & (X.label != 'SOTON') & (X.label != 'A/5') & (X.label != 'W/C') & (X.label != 'SC/PARIS') & (~X.label.isna()), 'label'] = 'rare'"
   ]
  },
  {
   "cell_type": "code",
   "execution_count": 974,
   "id": "6cb80081-beea-4199-8120-cf7f185db5f1",
   "metadata": {
    "tags": []
   },
   "outputs": [
    {
     "data": {
      "text/plain": [
       "<Axes: xlabel='label', ylabel='count'>"
      ]
     },
     "execution_count": 974,
     "metadata": {},
     "output_type": "execute_result"
    },
    {
     "data": {
      "image/png": "[encoded data removed]",
      "text/plain": [
       "<Figure size 640x480 with 1 Axes>"
      ]
     },
     "metadata": {},
     "output_type": "display_data"
    }
   ],
   "source": [
    "sns.countplot(data=X_train, x='label', hue='Survived')"
   ]
  },
  {
   "cell_type": "code",
   "execution_count": 975,
   "id": "0e2cd245-d1c2-490c-884a-ea3b03790b7e",
   "metadata": {
    "tags": []
   },
   "outputs": [
    {
     "data": {
      "text/plain": [
       "none        665\n",
       "rare         96\n",
       "CA           42\n",
       "SOTON        35\n",
       "A/5          28\n",
       "SC/PARIS     15\n",
       "W/C          10\n",
       "Name: label, dtype: int64"
      ]
     },
     "execution_count": 975,
     "metadata": {},
     "output_type": "execute_result"
    }
   ],
   "source": [
    "for X in twix:\n",
    "    X.label = X.label.fillna('none')\n",
    "X_train.label.value_counts()"
   ]
  },
  {
   "cell_type": "code",
   "execution_count": 976,
   "id": "6519a380-16b6-4e7e-8f50-31db0b8e80dc",
   "metadata": {
    "tags": []
   },
   "outputs": [],
   "source": [
    "for X in twix:\n",
    "     X.drop(['Ticket'], axis=1, inplace=True)"
   ]
  },
  {
   "cell_type": "code",
   "execution_count": 977,
   "id": "084189cf-1e47-421f-a293-f34fd8b1794b",
   "metadata": {
    "tags": []
   },
   "outputs": [],
   "source": [
    "for X in twix:\n",
    "    X.Cabin.fillna('none', inplace=True)\n",
    "    X['cabin_type'] = X['Cabin'].apply(lambda cabin: cabin[0])"
   ]
  },
  {
   "cell_type": "code",
   "execution_count": 978,
   "id": "fb115757-f739-4b26-8946-fbb41f90f99f",
   "metadata": {
    "tags": []
   },
   "outputs": [
    {
     "data": {
      "text/html": [
       "<div>\n",
       "<style scoped>\n",
       "    .dataframe tbody tr th:only-of-type {\n",
       "        vertical-align: middle;\n",
       "    }\n",
       "\n",
       "    .dataframe tbody tr th {\n",
       "        vertical-align: top;\n",
       "    }\n",
       "\n",
       "    .dataframe thead th {\n",
       "        text-align: right;\n",
       "    }\n",
       "</style>\n",
       "<table border=\"1\" class=\"dataframe\">\n",
       "  <thead>\n",
       "    <tr style=\"text-align: right;\">\n",
       "      <th></th>\n",
       "      <th>Survived</th>\n",
       "      <th>Pclass</th>\n",
       "      <th>Name</th>\n",
       "      <th>Sex</th>\n",
       "      <th>Age</th>\n",
       "      <th>SibSp</th>\n",
       "      <th>Parch</th>\n",
       "      <th>Fare</th>\n",
       "      <th>Cabin</th>\n",
       "      <th>Embarked</th>\n",
       "      <th>label</th>\n",
       "      <th>cabin_type</th>\n",
       "    </tr>\n",
       "    <tr>\n",
       "      <th>PassengerId</th>\n",
       "      <th></th>\n",
       "      <th></th>\n",
       "      <th></th>\n",
       "      <th></th>\n",
       "      <th></th>\n",
       "      <th></th>\n",
       "      <th></th>\n",
       "      <th></th>\n",
       "      <th></th>\n",
       "      <th></th>\n",
       "      <th></th>\n",
       "      <th></th>\n",
       "    </tr>\n",
       "  </thead>\n",
       "  <tbody>\n",
       "    <tr>\n",
       "      <th>2</th>\n",
       "      <td>1</td>\n",
       "      <td>1</td>\n",
       "      <td>Cumings, Mrs. John Bradley (Florence Briggs Th...</td>\n",
       "      <td>female</td>\n",
       "      <td>38.0</td>\n",
       "      <td>1</td>\n",
       "      <td>0</td>\n",
       "      <td>71.2833</td>\n",
       "      <td>C85</td>\n",
       "      <td>C</td>\n",
       "      <td>rare</td>\n",
       "      <td>C</td>\n",
       "    </tr>\n",
       "    <tr>\n",
       "      <th>4</th>\n",
       "      <td>1</td>\n",
       "      <td>1</td>\n",
       "      <td>Futrelle, Mrs. Jacques Heath (Lily May Peel)</td>\n",
       "      <td>female</td>\n",
       "      <td>35.0</td>\n",
       "      <td>1</td>\n",
       "      <td>0</td>\n",
       "      <td>53.1000</td>\n",
       "      <td>C123</td>\n",
       "      <td>S</td>\n",
       "      <td>none</td>\n",
       "      <td>C</td>\n",
       "    </tr>\n",
       "    <tr>\n",
       "      <th>7</th>\n",
       "      <td>0</td>\n",
       "      <td>1</td>\n",
       "      <td>McCarthy, Mr. Timothy J</td>\n",
       "      <td>male</td>\n",
       "      <td>54.0</td>\n",
       "      <td>0</td>\n",
       "      <td>0</td>\n",
       "      <td>51.8625</td>\n",
       "      <td>E46</td>\n",
       "      <td>S</td>\n",
       "      <td>none</td>\n",
       "      <td>E</td>\n",
       "    </tr>\n",
       "    <tr>\n",
       "      <th>11</th>\n",
       "      <td>1</td>\n",
       "      <td>3</td>\n",
       "      <td>Sandstrom, Miss. Marguerite Rut</td>\n",
       "      <td>female</td>\n",
       "      <td>4.0</td>\n",
       "      <td>1</td>\n",
       "      <td>1</td>\n",
       "      <td>16.7000</td>\n",
       "      <td>G6</td>\n",
       "      <td>S</td>\n",
       "      <td>rare</td>\n",
       "      <td>G</td>\n",
       "    </tr>\n",
       "    <tr>\n",
       "      <th>12</th>\n",
       "      <td>1</td>\n",
       "      <td>1</td>\n",
       "      <td>Bonnell, Miss. Elizabeth</td>\n",
       "      <td>female</td>\n",
       "      <td>58.0</td>\n",
       "      <td>0</td>\n",
       "      <td>0</td>\n",
       "      <td>26.5500</td>\n",
       "      <td>C103</td>\n",
       "      <td>S</td>\n",
       "      <td>none</td>\n",
       "      <td>C</td>\n",
       "    </tr>\n",
       "    <tr>\n",
       "      <th>...</th>\n",
       "      <td>...</td>\n",
       "      <td>...</td>\n",
       "      <td>...</td>\n",
       "      <td>...</td>\n",
       "      <td>...</td>\n",
       "      <td>...</td>\n",
       "      <td>...</td>\n",
       "      <td>...</td>\n",
       "      <td>...</td>\n",
       "      <td>...</td>\n",
       "      <td>...</td>\n",
       "      <td>...</td>\n",
       "    </tr>\n",
       "    <tr>\n",
       "      <th>872</th>\n",
       "      <td>1</td>\n",
       "      <td>1</td>\n",
       "      <td>Beckwith, Mrs. Richard Leonard (Sallie Monypeny)</td>\n",
       "      <td>female</td>\n",
       "      <td>47.0</td>\n",
       "      <td>1</td>\n",
       "      <td>1</td>\n",
       "      <td>52.5542</td>\n",
       "      <td>D35</td>\n",
       "      <td>S</td>\n",
       "      <td>none</td>\n",
       "      <td>D</td>\n",
       "    </tr>\n",
       "    <tr>\n",
       "      <th>873</th>\n",
       "      <td>0</td>\n",
       "      <td>1</td>\n",
       "      <td>Carlsson, Mr. Frans Olof</td>\n",
       "      <td>male</td>\n",
       "      <td>33.0</td>\n",
       "      <td>0</td>\n",
       "      <td>0</td>\n",
       "      <td>5.0000</td>\n",
       "      <td>B51 B53 B55</td>\n",
       "      <td>S</td>\n",
       "      <td>none</td>\n",
       "      <td>B</td>\n",
       "    </tr>\n",
       "    <tr>\n",
       "      <th>880</th>\n",
       "      <td>1</td>\n",
       "      <td>1</td>\n",
       "      <td>Potter, Mrs. Thomas Jr (Lily Alexenia Wilson)</td>\n",
       "      <td>female</td>\n",
       "      <td>56.0</td>\n",
       "      <td>0</td>\n",
       "      <td>1</td>\n",
       "      <td>83.1583</td>\n",
       "      <td>C50</td>\n",
       "      <td>C</td>\n",
       "      <td>none</td>\n",
       "      <td>C</td>\n",
       "    </tr>\n",
       "    <tr>\n",
       "      <th>888</th>\n",
       "      <td>1</td>\n",
       "      <td>1</td>\n",
       "      <td>Graham, Miss. Margaret Edith</td>\n",
       "      <td>female</td>\n",
       "      <td>19.0</td>\n",
       "      <td>0</td>\n",
       "      <td>0</td>\n",
       "      <td>30.0000</td>\n",
       "      <td>B42</td>\n",
       "      <td>S</td>\n",
       "      <td>none</td>\n",
       "      <td>B</td>\n",
       "    </tr>\n",
       "    <tr>\n",
       "      <th>890</th>\n",
       "      <td>1</td>\n",
       "      <td>1</td>\n",
       "      <td>Behr, Mr. Karl Howell</td>\n",
       "      <td>male</td>\n",
       "      <td>26.0</td>\n",
       "      <td>0</td>\n",
       "      <td>0</td>\n",
       "      <td>30.0000</td>\n",
       "      <td>C148</td>\n",
       "      <td>C</td>\n",
       "      <td>none</td>\n",
       "      <td>C</td>\n",
       "    </tr>\n",
       "  </tbody>\n",
       "</table>\n",
       "<p>204 rows × 12 columns</p>\n",
       "</div>"
      ],
      "text/plain": [
       "             Survived  Pclass  \\\n",
       "PassengerId                     \n",
       "2                   1       1   \n",
       "4                   1       1   \n",
       "7                   0       1   \n",
       "11                  1       3   \n",
       "12                  1       1   \n",
       "...               ...     ...   \n",
       "872                 1       1   \n",
       "873                 0       1   \n",
       "880                 1       1   \n",
       "888                 1       1   \n",
       "890                 1       1   \n",
       "\n",
       "                                                          Name     Sex   Age  \\\n",
       "PassengerId                                                                    \n",
       "2            Cumings, Mrs. John Bradley (Florence Briggs Th...  female  38.0   \n",
       "4                 Futrelle, Mrs. Jacques Heath (Lily May Peel)  female  35.0   \n",
       "7                                      McCarthy, Mr. Timothy J    male  54.0   \n",
       "11                             Sandstrom, Miss. Marguerite Rut  female   4.0   \n",
       "12                                    Bonnell, Miss. Elizabeth  female  58.0   \n",
       "...                                                        ...     ...   ...   \n",
       "872           Beckwith, Mrs. Richard Leonard (Sallie Monypeny)  female  47.0   \n",
       "873                                   Carlsson, Mr. Frans Olof    male  33.0   \n",
       "880              Potter, Mrs. Thomas Jr (Lily Alexenia Wilson)  female  56.0   \n",
       "888                               Graham, Miss. Margaret Edith  female  19.0   \n",
       "890                                      Behr, Mr. Karl Howell    male  26.0   \n",
       "\n",
       "             SibSp  Parch     Fare        Cabin Embarked label cabin_type  \n",
       "PassengerId                                                                \n",
       "2                1      0  71.2833          C85        C  rare          C  \n",
       "4                1      0  53.1000         C123        S  none          C  \n",
       "7                0      0  51.8625          E46        S  none          E  \n",
       "11               1      1  16.7000           G6        S  rare          G  \n",
       "12               0      0  26.5500         C103        S  none          C  \n",
       "...            ...    ...      ...          ...      ...   ...        ...  \n",
       "872              1      1  52.5542          D35        S  none          D  \n",
       "873              0      0   5.0000  B51 B53 B55        S  none          B  \n",
       "880              0      1  83.1583          C50        C  none          C  \n",
       "888              0      0  30.0000          B42        S  none          B  \n",
       "890              0      0  30.0000         C148        C  none          C  \n",
       "\n",
       "[204 rows x 12 columns]"
      ]
     },
     "execution_count": 978,
     "metadata": {},
     "output_type": "execute_result"
    }
   ],
   "source": [
    "X_train.query(\"cabin_type != 'n'\")"
   ]
  },
  {
   "cell_type": "code",
   "execution_count": 979,
   "id": "db7a3742-843a-4a45-b38b-278742f5bf66",
   "metadata": {
    "tags": []
   },
   "outputs": [
    {
     "data": {
      "text/plain": [
       "<Axes: xlabel='cabin_type', ylabel='count'>"
      ]
     },
     "execution_count": 979,
     "metadata": {},
     "output_type": "execute_result"
    },
    {
     "data": {
      "image/png": "[encoded data removed]",
      "text/plain": [
       "<Figure size 640x480 with 1 Axes>"
      ]
     },
     "metadata": {},
     "output_type": "display_data"
    }
   ],
   "source": [
    "sns.countplot(data=X_train, x='cabin_type', hue='Survived')"
   ]
  },
  {
   "cell_type": "code",
   "execution_count": 980,
   "id": "2df53f08-601d-4436-96b0-70eae1627f46",
   "metadata": {
    "tags": []
   },
   "outputs": [],
   "source": [
    "X_train.loc[X_train.cabin_type == 'T', 'cabin_type'] = 'n'"
   ]
  },
  {
   "cell_type": "code",
   "execution_count": 981,
   "id": "07238a45-bd9a-443f-84be-17c56c7910ae",
   "metadata": {
    "tags": []
   },
   "outputs": [],
   "source": [
    "for X in twix:\n",
    "     X.drop(['Cabin'], axis=1, inplace=True)"
   ]
  },
  {
   "cell_type": "code",
   "execution_count": 982,
   "id": "36622649-0ce7-4338-98fb-17ea719182e6",
   "metadata": {
    "tags": []
   },
   "outputs": [
    {
     "data": {
      "text/html": [
       "<div>\n",
       "<style scoped>\n",
       "    .dataframe tbody tr th:only-of-type {\n",
       "        vertical-align: middle;\n",
       "    }\n",
       "\n",
       "    .dataframe tbody tr th {\n",
       "        vertical-align: top;\n",
       "    }\n",
       "\n",
       "    .dataframe thead th {\n",
       "        text-align: right;\n",
       "    }\n",
       "</style>\n",
       "<table border=\"1\" class=\"dataframe\">\n",
       "  <thead>\n",
       "    <tr style=\"text-align: right;\">\n",
       "      <th>Survived</th>\n",
       "      <th>0</th>\n",
       "      <th>1</th>\n",
       "    </tr>\n",
       "    <tr>\n",
       "      <th>status</th>\n",
       "      <th></th>\n",
       "      <th></th>\n",
       "    </tr>\n",
       "  </thead>\n",
       "  <tbody>\n",
       "    <tr>\n",
       "      <th>Capt</th>\n",
       "      <td>1</td>\n",
       "      <td>0</td>\n",
       "    </tr>\n",
       "    <tr>\n",
       "      <th>Col</th>\n",
       "      <td>1</td>\n",
       "      <td>1</td>\n",
       "    </tr>\n",
       "    <tr>\n",
       "      <th>Countess</th>\n",
       "      <td>0</td>\n",
       "      <td>1</td>\n",
       "    </tr>\n",
       "    <tr>\n",
       "      <th>Don</th>\n",
       "      <td>1</td>\n",
       "      <td>0</td>\n",
       "    </tr>\n",
       "    <tr>\n",
       "      <th>Dr</th>\n",
       "      <td>4</td>\n",
       "      <td>3</td>\n",
       "    </tr>\n",
       "    <tr>\n",
       "      <th>Jonkheer</th>\n",
       "      <td>1</td>\n",
       "      <td>0</td>\n",
       "    </tr>\n",
       "    <tr>\n",
       "      <th>Lady</th>\n",
       "      <td>0</td>\n",
       "      <td>1</td>\n",
       "    </tr>\n",
       "    <tr>\n",
       "      <th>Major</th>\n",
       "      <td>1</td>\n",
       "      <td>1</td>\n",
       "    </tr>\n",
       "    <tr>\n",
       "      <th>Master</th>\n",
       "      <td>17</td>\n",
       "      <td>23</td>\n",
       "    </tr>\n",
       "    <tr>\n",
       "      <th>Miss</th>\n",
       "      <td>55</td>\n",
       "      <td>127</td>\n",
       "    </tr>\n",
       "    <tr>\n",
       "      <th>Mlle</th>\n",
       "      <td>0</td>\n",
       "      <td>2</td>\n",
       "    </tr>\n",
       "    <tr>\n",
       "      <th>Mme</th>\n",
       "      <td>0</td>\n",
       "      <td>1</td>\n",
       "    </tr>\n",
       "    <tr>\n",
       "      <th>Mr</th>\n",
       "      <td>436</td>\n",
       "      <td>81</td>\n",
       "    </tr>\n",
       "    <tr>\n",
       "      <th>Mrs</th>\n",
       "      <td>26</td>\n",
       "      <td>99</td>\n",
       "    </tr>\n",
       "    <tr>\n",
       "      <th>Ms</th>\n",
       "      <td>0</td>\n",
       "      <td>1</td>\n",
       "    </tr>\n",
       "    <tr>\n",
       "      <th>Rev</th>\n",
       "      <td>6</td>\n",
       "      <td>0</td>\n",
       "    </tr>\n",
       "    <tr>\n",
       "      <th>Sir</th>\n",
       "      <td>0</td>\n",
       "      <td>1</td>\n",
       "    </tr>\n",
       "  </tbody>\n",
       "</table>\n",
       "</div>"
      ],
      "text/plain": [
       "Survived    0    1\n",
       "status            \n",
       "Capt        1    0\n",
       "Col         1    1\n",
       "Countess    0    1\n",
       "Don         1    0\n",
       "Dr          4    3\n",
       "Jonkheer    1    0\n",
       "Lady        0    1\n",
       "Major       1    1\n",
       "Master     17   23\n",
       "Miss       55  127\n",
       "Mlle        0    2\n",
       "Mme         0    1\n",
       "Mr        436   81\n",
       "Mrs        26   99\n",
       "Ms          0    1\n",
       "Rev         6    0\n",
       "Sir         0    1"
      ]
     },
     "execution_count": 982,
     "metadata": {},
     "output_type": "execute_result"
    }
   ],
   "source": [
    "for X in twix:\n",
    "    X['status'] = X.Name.str.extract('([a-zA-Z]+)\\.', expand=False)\n",
    "pd.crosstab(X_train.status, X_train.Survived)"
   ]
  },
  {
   "cell_type": "code",
   "execution_count": 983,
   "id": "0e9a317a-29d4-4139-ac02-5ed79b5dab3a",
   "metadata": {
    "tags": []
   },
   "outputs": [],
   "source": [
    "for X in twix:\n",
    "    X['status'] = X['status'].replace(['Don', 'Sir', 'Capt', 'Col', 'Dr', 'Jonkheer', 'Major', 'Rev', 'Sir'], 'Mr')\n",
    "    X['status'] = X['status'].replace(['Mlle', 'Ms', 'Mme', 'Lady', 'Countess', 'Dona'], 'Mrs')"
   ]
  },
  {
   "cell_type": "code",
   "execution_count": 984,
   "id": "6e82f5e0-f21f-4b9c-a5b6-80bb0e28f35f",
   "metadata": {
    "tags": []
   },
   "outputs": [
    {
     "data": {
      "text/html": [
       "<div>\n",
       "<style scoped>\n",
       "    .dataframe tbody tr th:only-of-type {\n",
       "        vertical-align: middle;\n",
       "    }\n",
       "\n",
       "    .dataframe tbody tr th {\n",
       "        vertical-align: top;\n",
       "    }\n",
       "\n",
       "    .dataframe thead th {\n",
       "        text-align: right;\n",
       "    }\n",
       "</style>\n",
       "<table border=\"1\" class=\"dataframe\">\n",
       "  <thead>\n",
       "    <tr style=\"text-align: right;\">\n",
       "      <th></th>\n",
       "      <th>status</th>\n",
       "      <th>Survived</th>\n",
       "    </tr>\n",
       "  </thead>\n",
       "  <tbody>\n",
       "    <tr>\n",
       "      <th>0</th>\n",
       "      <td>Master</td>\n",
       "      <td>0.575000</td>\n",
       "    </tr>\n",
       "    <tr>\n",
       "      <th>1</th>\n",
       "      <td>Miss</td>\n",
       "      <td>0.697802</td>\n",
       "    </tr>\n",
       "    <tr>\n",
       "      <th>2</th>\n",
       "      <td>Mr</td>\n",
       "      <td>0.161710</td>\n",
       "    </tr>\n",
       "    <tr>\n",
       "      <th>3</th>\n",
       "      <td>Mrs</td>\n",
       "      <td>0.801527</td>\n",
       "    </tr>\n",
       "  </tbody>\n",
       "</table>\n",
       "</div>"
      ],
      "text/plain": [
       "   status  Survived\n",
       "0  Master  0.575000\n",
       "1    Miss  0.697802\n",
       "2      Mr  0.161710\n",
       "3     Mrs  0.801527"
      ]
     },
     "execution_count": 984,
     "metadata": {},
     "output_type": "execute_result"
    }
   ],
   "source": [
    "X_train[['status', 'Survived']].groupby(['status'], as_index=False).mean()"
   ]
  },
  {
   "cell_type": "code",
   "execution_count": 985,
   "id": "108c5aca-6a3d-497d-a671-1c136eec77b8",
   "metadata": {
    "tags": []
   },
   "outputs": [
    {
     "data": {
      "text/plain": [
       "status\n",
       "Master    2.714286\n",
       "Miss      2.435897\n",
       "Mr        2.302041\n",
       "Mrs       1.837838\n",
       "Name: Pclass, dtype: float64"
      ]
     },
     "execution_count": 985,
     "metadata": {},
     "output_type": "execute_result"
    }
   ],
   "source": [
    "X_test.groupby('status').Pclass.mean()"
   ]
  },
  {
   "cell_type": "code",
   "execution_count": 986,
   "id": "e75ad102-8dc6-4c4a-9f58-873c8567ab05",
   "metadata": {
    "tags": []
   },
   "outputs": [],
   "source": [
    "for X in twix:\n",
    "    X.drop('Name', axis=1, inplace=True)"
   ]
  },
  {
   "cell_type": "code",
   "execution_count": 987,
   "id": "04ef1db9-fdd7-4642-b520-49478a728f86",
   "metadata": {
    "tags": []
   },
   "outputs": [
    {
     "data": {
      "text/plain": [
       "Sex     Pclass\n",
       "female  1         35.0\n",
       "        2         28.0\n",
       "        3         21.5\n",
       "male    1         40.0\n",
       "        2         30.0\n",
       "        3         25.0\n",
       "Name: Age, dtype: float64"
      ]
     },
     "execution_count": 987,
     "metadata": {},
     "output_type": "execute_result"
    }
   ],
   "source": [
    "X_train.groupby(['Sex', 'Pclass']).Age.median()"
   ]
  },
  {
   "cell_type": "code",
   "execution_count": 988,
   "id": "c72ad1a3-879a-461a-bb95-359ca57431f9",
   "metadata": {
    "tags": []
   },
   "outputs": [],
   "source": [
    "np.random.seed(123)\n",
    "for X in twix:\n",
    "    for index, value in X.groupby(['Sex', 'Pclass']).Age.median().items():\n",
    "        temp = X.loc[(X['Sex'] == index[0]) & (X['Pclass'] == index[1]) & (X.Age.isna()), 'Age']\n",
    "        X.loc[(X['Sex'] == index[0]) & (X['Pclass'] == index[1]) & (X.Age.isna()), 'Age'] = value + (X.loc[(X['Sex'] == index[0]) & (X['Pclass'] == index[1]), 'Age'].std() / 5) * np.random.randn(temp.size)"
   ]
  },
  {
   "cell_type": "code",
   "execution_count": 989,
   "id": "203960ea-7754-46bc-a325-9a6541867dbe",
   "metadata": {
    "tags": []
   },
   "outputs": [
    {
     "data": {
      "text/plain": [
       "<Axes: xlabel='Age', ylabel='Count'>"
      ]
     },
     "execution_count": 989,
     "metadata": {},
     "output_type": "execute_result"
    },
    {
     "data": {
      "image/png": "[encoded data removed]",
      "text/plain": [
       "<Figure size 640x480 with 1 Axes>"
      ]
     },
     "metadata": {},
     "output_type": "display_data"
    }
   ],
   "source": [
    "sns.histplot(data=X_train, x='Age', hue='Survived', bins=9)"
   ]
  },
  {
   "cell_type": "code",
   "execution_count": 990,
   "id": "36dd5ff1-39dc-4301-acca-79b29f367245",
   "metadata": {
    "tags": []
   },
   "outputs": [],
   "source": [
    "X_train['age_group'] = pd.cut(X_train.Age, 9)\n",
    "intervals = list(X_train[['age_group', 'Survived']].groupby(['age_group']).mean().index)\n",
    "for i, interval in enumerate(intervals):\n",
    "    for X in twix:\n",
    "        X.loc[(X['Age'] >= int(interval.left)) & (X['Age'] <= int(interval.right)), 'age_cat'] = f'{i}group'"
   ]
  },
  {
   "cell_type": "code",
   "execution_count": 991,
   "id": "031cacb0-215d-4d1e-abfb-c44192289c10",
   "metadata": {
    "tags": []
   },
   "outputs": [],
   "source": [
    "X_train.drop('age_group', axis=1, inplace=True)"
   ]
  },
  {
   "cell_type": "code",
   "execution_count": 992,
   "id": "056a5a44-2547-4740-b244-2d762a09e71f",
   "metadata": {
    "tags": []
   },
   "outputs": [
    {
     "data": {
      "text/html": [
       "<div>\n",
       "<style scoped>\n",
       "    .dataframe tbody tr th:only-of-type {\n",
       "        vertical-align: middle;\n",
       "    }\n",
       "\n",
       "    .dataframe tbody tr th {\n",
       "        vertical-align: top;\n",
       "    }\n",
       "\n",
       "    .dataframe thead th {\n",
       "        text-align: right;\n",
       "    }\n",
       "</style>\n",
       "<table border=\"1\" class=\"dataframe\">\n",
       "  <thead>\n",
       "    <tr style=\"text-align: right;\">\n",
       "      <th></th>\n",
       "      <th>Survived</th>\n",
       "      <th>Pclass</th>\n",
       "      <th>Sex</th>\n",
       "      <th>Age</th>\n",
       "      <th>SibSp</th>\n",
       "      <th>Parch</th>\n",
       "      <th>Fare</th>\n",
       "      <th>Embarked</th>\n",
       "      <th>label</th>\n",
       "      <th>cabin_type</th>\n",
       "      <th>status</th>\n",
       "      <th>age_cat</th>\n",
       "    </tr>\n",
       "    <tr>\n",
       "      <th>PassengerId</th>\n",
       "      <th></th>\n",
       "      <th></th>\n",
       "      <th></th>\n",
       "      <th></th>\n",
       "      <th></th>\n",
       "      <th></th>\n",
       "      <th></th>\n",
       "      <th></th>\n",
       "      <th></th>\n",
       "      <th></th>\n",
       "      <th></th>\n",
       "      <th></th>\n",
       "    </tr>\n",
       "  </thead>\n",
       "  <tbody>\n",
       "    <tr>\n",
       "      <th>511</th>\n",
       "      <td>1</td>\n",
       "      <td>3</td>\n",
       "      <td>male</td>\n",
       "      <td>29.0</td>\n",
       "      <td>0</td>\n",
       "      <td>0</td>\n",
       "      <td>7.7500</td>\n",
       "      <td>Q</td>\n",
       "      <td>none</td>\n",
       "      <td>n</td>\n",
       "      <td>Mr</td>\n",
       "      <td>3group</td>\n",
       "    </tr>\n",
       "    <tr>\n",
       "      <th>830</th>\n",
       "      <td>1</td>\n",
       "      <td>1</td>\n",
       "      <td>female</td>\n",
       "      <td>62.0</td>\n",
       "      <td>0</td>\n",
       "      <td>0</td>\n",
       "      <td>80.0000</td>\n",
       "      <td>NaN</td>\n",
       "      <td>none</td>\n",
       "      <td>B</td>\n",
       "      <td>Mrs</td>\n",
       "      <td>7group</td>\n",
       "    </tr>\n",
       "    <tr>\n",
       "      <th>362</th>\n",
       "      <td>0</td>\n",
       "      <td>2</td>\n",
       "      <td>male</td>\n",
       "      <td>29.0</td>\n",
       "      <td>1</td>\n",
       "      <td>0</td>\n",
       "      <td>27.7208</td>\n",
       "      <td>C</td>\n",
       "      <td>SC/PARIS</td>\n",
       "      <td>n</td>\n",
       "      <td>Mr</td>\n",
       "      <td>3group</td>\n",
       "    </tr>\n",
       "    <tr>\n",
       "      <th>374</th>\n",
       "      <td>0</td>\n",
       "      <td>1</td>\n",
       "      <td>male</td>\n",
       "      <td>22.0</td>\n",
       "      <td>0</td>\n",
       "      <td>0</td>\n",
       "      <td>135.6333</td>\n",
       "      <td>C</td>\n",
       "      <td>rare</td>\n",
       "      <td>n</td>\n",
       "      <td>Mr</td>\n",
       "      <td>2group</td>\n",
       "    </tr>\n",
       "    <tr>\n",
       "      <th>583</th>\n",
       "      <td>0</td>\n",
       "      <td>2</td>\n",
       "      <td>male</td>\n",
       "      <td>54.0</td>\n",
       "      <td>0</td>\n",
       "      <td>0</td>\n",
       "      <td>26.0000</td>\n",
       "      <td>S</td>\n",
       "      <td>none</td>\n",
       "      <td>n</td>\n",
       "      <td>Mr</td>\n",
       "      <td>6group</td>\n",
       "    </tr>\n",
       "  </tbody>\n",
       "</table>\n",
       "</div>"
      ],
      "text/plain": [
       "             Survived  Pclass     Sex   Age  SibSp  Parch      Fare Embarked  \\\n",
       "PassengerId                                                                    \n",
       "511                 1       3    male  29.0      0      0    7.7500        Q   \n",
       "830                 1       1  female  62.0      0      0   80.0000      NaN   \n",
       "362                 0       2    male  29.0      1      0   27.7208        C   \n",
       "374                 0       1    male  22.0      0      0  135.6333        C   \n",
       "583                 0       2    male  54.0      0      0   26.0000        S   \n",
       "\n",
       "                label cabin_type status age_cat  \n",
       "PassengerId                                      \n",
       "511              none          n     Mr  3group  \n",
       "830              none          B    Mrs  7group  \n",
       "362          SC/PARIS          n     Mr  3group  \n",
       "374              rare          n     Mr  2group  \n",
       "583              none          n     Mr  6group  "
      ]
     },
     "execution_count": 992,
     "metadata": {},
     "output_type": "execute_result"
    }
   ],
   "source": [
    "X_train.sample(5)"
   ]
  },
  {
   "cell_type": "code",
   "execution_count": 993,
   "id": "7dbbd50f-43e2-4d42-a93b-723249265ebc",
   "metadata": {
    "tags": []
   },
   "outputs": [
    {
     "data": {
      "text/html": [
       "<div>\n",
       "<style scoped>\n",
       "    .dataframe tbody tr th:only-of-type {\n",
       "        vertical-align: middle;\n",
       "    }\n",
       "\n",
       "    .dataframe tbody tr th {\n",
       "        vertical-align: top;\n",
       "    }\n",
       "\n",
       "    .dataframe thead th {\n",
       "        text-align: right;\n",
       "    }\n",
       "</style>\n",
       "<table border=\"1\" class=\"dataframe\">\n",
       "  <thead>\n",
       "    <tr style=\"text-align: right;\">\n",
       "      <th></th>\n",
       "      <th>family_size</th>\n",
       "      <th>Pclass</th>\n",
       "    </tr>\n",
       "  </thead>\n",
       "  <tbody>\n",
       "    <tr>\n",
       "      <th>6</th>\n",
       "      <td>7</td>\n",
       "      <td>3.000000</td>\n",
       "    </tr>\n",
       "    <tr>\n",
       "      <th>7</th>\n",
       "      <td>8</td>\n",
       "      <td>3.000000</td>\n",
       "    </tr>\n",
       "    <tr>\n",
       "      <th>8</th>\n",
       "      <td>11</td>\n",
       "      <td>3.000000</td>\n",
       "    </tr>\n",
       "    <tr>\n",
       "      <th>4</th>\n",
       "      <td>5</td>\n",
       "      <td>2.666667</td>\n",
       "    </tr>\n",
       "    <tr>\n",
       "      <th>5</th>\n",
       "      <td>6</td>\n",
       "      <td>2.590909</td>\n",
       "    </tr>\n",
       "    <tr>\n",
       "      <th>0</th>\n",
       "      <td>1</td>\n",
       "      <td>2.400372</td>\n",
       "    </tr>\n",
       "    <tr>\n",
       "      <th>2</th>\n",
       "      <td>3</td>\n",
       "      <td>2.225490</td>\n",
       "    </tr>\n",
       "    <tr>\n",
       "      <th>3</th>\n",
       "      <td>4</td>\n",
       "      <td>2.068966</td>\n",
       "    </tr>\n",
       "    <tr>\n",
       "      <th>1</th>\n",
       "      <td>2</td>\n",
       "      <td>1.919255</td>\n",
       "    </tr>\n",
       "  </tbody>\n",
       "</table>\n",
       "</div>"
      ],
      "text/plain": [
       "   family_size    Pclass\n",
       "6            7  3.000000\n",
       "7            8  3.000000\n",
       "8           11  3.000000\n",
       "4            5  2.666667\n",
       "5            6  2.590909\n",
       "0            1  2.400372\n",
       "2            3  2.225490\n",
       "3            4  2.068966\n",
       "1            2  1.919255"
      ]
     },
     "execution_count": 993,
     "metadata": {},
     "output_type": "execute_result"
    }
   ],
   "source": [
    "for X in twix:\n",
    "    X['family_size'] = X['SibSp'] + X['Parch'] + 1\n",
    "    \n",
    "(X_train.groupby('family_size', as_index=False).Pclass\n",
    " .mean().sort_values(by='Pclass', ascending=False))"
   ]
  },
  {
   "cell_type": "code",
   "execution_count": 994,
   "id": "1364e33a-e7a9-4774-b221-8e8911153e26",
   "metadata": {
    "tags": []
   },
   "outputs": [
    {
     "data": {
      "text/plain": [
       "is_alone\n",
       "0    0.505650\n",
       "1    0.303538\n",
       "Name: Survived, dtype: float64"
      ]
     },
     "execution_count": 994,
     "metadata": {},
     "output_type": "execute_result"
    }
   ],
   "source": [
    "for X in twix:\n",
    "    X['is_alone'] = np.where(X.family_size == 1, 1, 0)\n",
    "X_train.groupby('is_alone').Survived.mean()"
   ]
  },
  {
   "cell_type": "code",
   "execution_count": 995,
   "id": "e9ace957-6a26-4314-8899-53e906ee5dc2",
   "metadata": {
    "tags": []
   },
   "outputs": [
    {
     "data": {
      "text/html": [
       "<div>\n",
       "<style scoped>\n",
       "    .dataframe tbody tr th:only-of-type {\n",
       "        vertical-align: middle;\n",
       "    }\n",
       "\n",
       "    .dataframe tbody tr th {\n",
       "        vertical-align: top;\n",
       "    }\n",
       "\n",
       "    .dataframe thead th {\n",
       "        text-align: right;\n",
       "    }\n",
       "</style>\n",
       "<table border=\"1\" class=\"dataframe\">\n",
       "  <thead>\n",
       "    <tr style=\"text-align: right;\">\n",
       "      <th></th>\n",
       "      <th>Survived</th>\n",
       "      <th>Pclass</th>\n",
       "      <th>Sex</th>\n",
       "      <th>Age</th>\n",
       "      <th>Fare</th>\n",
       "      <th>Embarked</th>\n",
       "      <th>label</th>\n",
       "      <th>cabin_type</th>\n",
       "      <th>status</th>\n",
       "      <th>age_cat</th>\n",
       "      <th>is_alone</th>\n",
       "    </tr>\n",
       "    <tr>\n",
       "      <th>PassengerId</th>\n",
       "      <th></th>\n",
       "      <th></th>\n",
       "      <th></th>\n",
       "      <th></th>\n",
       "      <th></th>\n",
       "      <th></th>\n",
       "      <th></th>\n",
       "      <th></th>\n",
       "      <th></th>\n",
       "      <th></th>\n",
       "      <th></th>\n",
       "    </tr>\n",
       "  </thead>\n",
       "  <tbody>\n",
       "    <tr>\n",
       "      <th>697</th>\n",
       "      <td>0</td>\n",
       "      <td>3</td>\n",
       "      <td>male</td>\n",
       "      <td>44.0</td>\n",
       "      <td>8.05</td>\n",
       "      <td>S</td>\n",
       "      <td>none</td>\n",
       "      <td>n</td>\n",
       "      <td>Mr</td>\n",
       "      <td>5group</td>\n",
       "      <td>1</td>\n",
       "    </tr>\n",
       "  </tbody>\n",
       "</table>\n",
       "</div>"
      ],
      "text/plain": [
       "             Survived  Pclass   Sex   Age  Fare Embarked label cabin_type  \\\n",
       "PassengerId                                                                 \n",
       "697                 0       3  male  44.0  8.05        S  none          n   \n",
       "\n",
       "            status age_cat  is_alone  \n",
       "PassengerId                           \n",
       "697             Mr  5group         1  "
      ]
     },
     "execution_count": 995,
     "metadata": {},
     "output_type": "execute_result"
    }
   ],
   "source": [
    "for X in twix:\n",
    "    X.drop(['Parch', 'SibSp', 'family_size'], axis=1, inplace=True)\n",
    "X_train.sample()"
   ]
  },
  {
   "cell_type": "code",
   "execution_count": 996,
   "id": "3e7e85f0-5421-42d2-87e7-5fd3cdddc7d1",
   "metadata": {
    "tags": []
   },
   "outputs": [
    {
     "data": {
      "text/html": [
       "<div>\n",
       "<style scoped>\n",
       "    .dataframe tbody tr th:only-of-type {\n",
       "        vertical-align: middle;\n",
       "    }\n",
       "\n",
       "    .dataframe tbody tr th {\n",
       "        vertical-align: top;\n",
       "    }\n",
       "\n",
       "    .dataframe thead th {\n",
       "        text-align: right;\n",
       "    }\n",
       "</style>\n",
       "<table border=\"1\" class=\"dataframe\">\n",
       "  <thead>\n",
       "    <tr style=\"text-align: right;\">\n",
       "      <th></th>\n",
       "      <th>Survived</th>\n",
       "      <th>Pclass</th>\n",
       "      <th>Sex</th>\n",
       "      <th>Age</th>\n",
       "      <th>Fare</th>\n",
       "      <th>Embarked</th>\n",
       "      <th>label</th>\n",
       "      <th>cabin_type</th>\n",
       "      <th>status</th>\n",
       "      <th>age_cat</th>\n",
       "      <th>is_alone</th>\n",
       "      <th>age*class</th>\n",
       "    </tr>\n",
       "    <tr>\n",
       "      <th>PassengerId</th>\n",
       "      <th></th>\n",
       "      <th></th>\n",
       "      <th></th>\n",
       "      <th></th>\n",
       "      <th></th>\n",
       "      <th></th>\n",
       "      <th></th>\n",
       "      <th></th>\n",
       "      <th></th>\n",
       "      <th></th>\n",
       "      <th></th>\n",
       "      <th></th>\n",
       "    </tr>\n",
       "  </thead>\n",
       "  <tbody>\n",
       "    <tr>\n",
       "      <th>1</th>\n",
       "      <td>0</td>\n",
       "      <td>3</td>\n",
       "      <td>male</td>\n",
       "      <td>22.0</td>\n",
       "      <td>7.2500</td>\n",
       "      <td>S</td>\n",
       "      <td>A/5</td>\n",
       "      <td>n</td>\n",
       "      <td>Mr</td>\n",
       "      <td>2group</td>\n",
       "      <td>0</td>\n",
       "      <td>66.0</td>\n",
       "    </tr>\n",
       "    <tr>\n",
       "      <th>2</th>\n",
       "      <td>1</td>\n",
       "      <td>1</td>\n",
       "      <td>female</td>\n",
       "      <td>38.0</td>\n",
       "      <td>71.2833</td>\n",
       "      <td>C</td>\n",
       "      <td>rare</td>\n",
       "      <td>C</td>\n",
       "      <td>Mrs</td>\n",
       "      <td>4group</td>\n",
       "      <td>0</td>\n",
       "      <td>38.0</td>\n",
       "    </tr>\n",
       "    <tr>\n",
       "      <th>3</th>\n",
       "      <td>1</td>\n",
       "      <td>3</td>\n",
       "      <td>female</td>\n",
       "      <td>26.0</td>\n",
       "      <td>7.9250</td>\n",
       "      <td>S</td>\n",
       "      <td>SOTON</td>\n",
       "      <td>n</td>\n",
       "      <td>Miss</td>\n",
       "      <td>3group</td>\n",
       "      <td>1</td>\n",
       "      <td>78.0</td>\n",
       "    </tr>\n",
       "    <tr>\n",
       "      <th>4</th>\n",
       "      <td>1</td>\n",
       "      <td>1</td>\n",
       "      <td>female</td>\n",
       "      <td>35.0</td>\n",
       "      <td>53.1000</td>\n",
       "      <td>S</td>\n",
       "      <td>none</td>\n",
       "      <td>C</td>\n",
       "      <td>Mrs</td>\n",
       "      <td>4group</td>\n",
       "      <td>0</td>\n",
       "      <td>35.0</td>\n",
       "    </tr>\n",
       "    <tr>\n",
       "      <th>5</th>\n",
       "      <td>0</td>\n",
       "      <td>3</td>\n",
       "      <td>male</td>\n",
       "      <td>35.0</td>\n",
       "      <td>8.0500</td>\n",
       "      <td>S</td>\n",
       "      <td>none</td>\n",
       "      <td>n</td>\n",
       "      <td>Mr</td>\n",
       "      <td>4group</td>\n",
       "      <td>1</td>\n",
       "      <td>105.0</td>\n",
       "    </tr>\n",
       "  </tbody>\n",
       "</table>\n",
       "</div>"
      ],
      "text/plain": [
       "             Survived  Pclass     Sex   Age     Fare Embarked  label  \\\n",
       "PassengerId                                                            \n",
       "1                   0       3    male  22.0   7.2500        S    A/5   \n",
       "2                   1       1  female  38.0  71.2833        C   rare   \n",
       "3                   1       3  female  26.0   7.9250        S  SOTON   \n",
       "4                   1       1  female  35.0  53.1000        S   none   \n",
       "5                   0       3    male  35.0   8.0500        S   none   \n",
       "\n",
       "            cabin_type status age_cat  is_alone  age*class  \n",
       "PassengerId                                                 \n",
       "1                    n     Mr  2group         0       66.0  \n",
       "2                    C    Mrs  4group         0       38.0  \n",
       "3                    n   Miss  3group         1       78.0  \n",
       "4                    C    Mrs  4group         0       35.0  \n",
       "5                    n     Mr  4group         1      105.0  "
      ]
     },
     "execution_count": 996,
     "metadata": {},
     "output_type": "execute_result"
    }
   ],
   "source": [
    "for X in twix:\n",
    "    X['age*class'] = X['Age'] * X['Pclass']\n",
    "X_train.head()"
   ]
  },
  {
   "cell_type": "code",
   "execution_count": 997,
   "id": "34b3ce7f-fc72-485e-8e25-ea319d2e78e9",
   "metadata": {
    "tags": []
   },
   "outputs": [],
   "source": [
    "X_test.drop('Age', inplace=True, axis=1)"
   ]
  },
  {
   "cell_type": "code",
   "execution_count": 998,
   "id": "edfb9c23-ea97-4a41-9f6f-17e4727376bf",
   "metadata": {
    "tags": []
   },
   "outputs": [],
   "source": [
    "X_train.drop('Age', inplace=True, axis=1)"
   ]
  },
  {
   "cell_type": "code",
   "execution_count": 999,
   "id": "e5ff47e5-63f8-4aa7-b906-80c9770a6d01",
   "metadata": {
    "tags": []
   },
   "outputs": [],
   "source": [
    "port_mode = X_train.Embarked.mode()[0]"
   ]
  },
  {
   "cell_type": "code",
   "execution_count": 1000,
   "id": "0e1b57a1-dd75-4096-a8e2-3920bda36bf9",
   "metadata": {
    "tags": []
   },
   "outputs": [],
   "source": [
    "for X in twix:\n",
    "    X['Embarked'] = X['Embarked'].fillna(port_mode)"
   ]
  },
  {
   "cell_type": "code",
   "execution_count": 1001,
   "id": "530e00a2-0179-4f37-993a-e1124eadad0d",
   "metadata": {
    "tags": []
   },
   "outputs": [
    {
     "data": {
      "text/plain": [
       "Embarked\n",
       "C    0.553571\n",
       "Q    0.389610\n",
       "S    0.339009\n",
       "Name: Survived, dtype: float64"
      ]
     },
     "execution_count": 1001,
     "metadata": {},
     "output_type": "execute_result"
    }
   ],
   "source": [
    "X_train.groupby('Embarked').Survived.mean()"
   ]
  },
  {
   "cell_type": "code",
   "execution_count": 1002,
   "id": "e7f66c36-c8d0-4145-94fe-8d5b35f20885",
   "metadata": {
    "tags": []
   },
   "outputs": [
    {
     "data": {
      "text/html": [
       "<div>\n",
       "<style scoped>\n",
       "    .dataframe tbody tr th:only-of-type {\n",
       "        vertical-align: middle;\n",
       "    }\n",
       "\n",
       "    .dataframe tbody tr th {\n",
       "        vertical-align: top;\n",
       "    }\n",
       "\n",
       "    .dataframe thead th {\n",
       "        text-align: right;\n",
       "    }\n",
       "</style>\n",
       "<table border=\"1\" class=\"dataframe\">\n",
       "  <thead>\n",
       "    <tr style=\"text-align: right;\">\n",
       "      <th></th>\n",
       "      <th>Survived</th>\n",
       "      <th>Pclass</th>\n",
       "      <th>Sex</th>\n",
       "      <th>Fare</th>\n",
       "      <th>Embarked</th>\n",
       "      <th>label</th>\n",
       "      <th>cabin_type</th>\n",
       "      <th>status</th>\n",
       "      <th>age_cat</th>\n",
       "      <th>is_alone</th>\n",
       "      <th>age*class</th>\n",
       "    </tr>\n",
       "    <tr>\n",
       "      <th>PassengerId</th>\n",
       "      <th></th>\n",
       "      <th></th>\n",
       "      <th></th>\n",
       "      <th></th>\n",
       "      <th></th>\n",
       "      <th></th>\n",
       "      <th></th>\n",
       "      <th></th>\n",
       "      <th></th>\n",
       "      <th></th>\n",
       "      <th></th>\n",
       "    </tr>\n",
       "  </thead>\n",
       "  <tbody>\n",
       "    <tr>\n",
       "      <th>1</th>\n",
       "      <td>0</td>\n",
       "      <td>3</td>\n",
       "      <td>male</td>\n",
       "      <td>7.2500</td>\n",
       "      <td>0</td>\n",
       "      <td>A/5</td>\n",
       "      <td>n</td>\n",
       "      <td>Mr</td>\n",
       "      <td>2group</td>\n",
       "      <td>0</td>\n",
       "      <td>66.0</td>\n",
       "    </tr>\n",
       "    <tr>\n",
       "      <th>2</th>\n",
       "      <td>1</td>\n",
       "      <td>1</td>\n",
       "      <td>female</td>\n",
       "      <td>71.2833</td>\n",
       "      <td>1</td>\n",
       "      <td>rare</td>\n",
       "      <td>C</td>\n",
       "      <td>Mrs</td>\n",
       "      <td>4group</td>\n",
       "      <td>0</td>\n",
       "      <td>38.0</td>\n",
       "    </tr>\n",
       "    <tr>\n",
       "      <th>3</th>\n",
       "      <td>1</td>\n",
       "      <td>3</td>\n",
       "      <td>female</td>\n",
       "      <td>7.9250</td>\n",
       "      <td>0</td>\n",
       "      <td>SOTON</td>\n",
       "      <td>n</td>\n",
       "      <td>Miss</td>\n",
       "      <td>3group</td>\n",
       "      <td>1</td>\n",
       "      <td>78.0</td>\n",
       "    </tr>\n",
       "    <tr>\n",
       "      <th>4</th>\n",
       "      <td>1</td>\n",
       "      <td>1</td>\n",
       "      <td>female</td>\n",
       "      <td>53.1000</td>\n",
       "      <td>0</td>\n",
       "      <td>none</td>\n",
       "      <td>C</td>\n",
       "      <td>Mrs</td>\n",
       "      <td>4group</td>\n",
       "      <td>0</td>\n",
       "      <td>35.0</td>\n",
       "    </tr>\n",
       "    <tr>\n",
       "      <th>5</th>\n",
       "      <td>0</td>\n",
       "      <td>3</td>\n",
       "      <td>male</td>\n",
       "      <td>8.0500</td>\n",
       "      <td>0</td>\n",
       "      <td>none</td>\n",
       "      <td>n</td>\n",
       "      <td>Mr</td>\n",
       "      <td>4group</td>\n",
       "      <td>1</td>\n",
       "      <td>105.0</td>\n",
       "    </tr>\n",
       "  </tbody>\n",
       "</table>\n",
       "</div>"
      ],
      "text/plain": [
       "             Survived  Pclass     Sex     Fare  Embarked  label cabin_type  \\\n",
       "PassengerId                                                                  \n",
       "1                   0       3    male   7.2500         0    A/5          n   \n",
       "2                   1       1  female  71.2833         1   rare          C   \n",
       "3                   1       3  female   7.9250         0  SOTON          n   \n",
       "4                   1       1  female  53.1000         0   none          C   \n",
       "5                   0       3    male   8.0500         0   none          n   \n",
       "\n",
       "            status age_cat  is_alone  age*class  \n",
       "PassengerId                                      \n",
       "1               Mr  2group         0       66.0  \n",
       "2              Mrs  4group         0       38.0  \n",
       "3             Miss  3group         1       78.0  \n",
       "4              Mrs  4group         0       35.0  \n",
       "5               Mr  4group         1      105.0  "
      ]
     },
     "execution_count": 1002,
     "metadata": {},
     "output_type": "execute_result"
    }
   ],
   "source": [
    "for X in twix:\n",
    "    X['Embarked'] = X['Embarked'].map({'S': 0, 'C': 1, 'Q': 2})\n",
    "X_train.head()"
   ]
  },
  {
   "cell_type": "code",
   "execution_count": 1003,
   "id": "71ebd6e1-1a45-4486-b40f-ce9b498e469a",
   "metadata": {
    "tags": []
   },
   "outputs": [],
   "source": [
    "X_test.Fare.fillna(X_test.Fare.median(), inplace=True)"
   ]
  },
  {
   "cell_type": "code",
   "execution_count": 1004,
   "id": "2f6299e2-d10f-45ec-88a5-fab06cc4ee10",
   "metadata": {
    "tags": []
   },
   "outputs": [],
   "source": [
    "X_train['fare_group'] = pd.qcut(X_train.Fare, 4)\n",
    "intervals = list(X_train.groupby('fare_group').Survived.mean().index)\n",
    "for X in twix:\n",
    "    for i, interval in enumerate(intervals):\n",
    "        X.loc[(X['Fare'] >= interval.left) & (X['Fare'] <= interval.right), 'Fare'] = i"
   ]
  },
  {
   "cell_type": "code",
   "execution_count": 1005,
   "id": "78e202a0-a5ce-4028-9cc1-15bc379733a5",
   "metadata": {
    "tags": []
   },
   "outputs": [],
   "source": [
    "for X in twix:\n",
    "    X.loc[X.Fare == X.Fare.max(), 'Fare'] = 3"
   ]
  },
  {
   "cell_type": "code",
   "execution_count": 1006,
   "id": "2702ecab-fa98-4860-9c3c-f9cb230e7609",
   "metadata": {
    "tags": []
   },
   "outputs": [],
   "source": [
    "X_train.drop('fare_group', axis=1, inplace=True)"
   ]
  },
  {
   "cell_type": "code",
   "execution_count": 1007,
   "id": "8a5ccd08-a145-4c2a-9cbf-a80afd7f3d05",
   "metadata": {
    "tags": []
   },
   "outputs": [],
   "source": [
    "X_test.status.fillna(3, inplace=True)"
   ]
  },
  {
   "cell_type": "code",
   "execution_count": 1008,
   "id": "7da9cfa1-671b-41d2-a1e7-c74a9aad7ad1",
   "metadata": {
    "tags": []
   },
   "outputs": [],
   "source": [
    "for X in twix:\n",
    "    X.Fare = X.Fare.astype(np.int32)"
   ]
  },
  {
   "cell_type": "code",
   "execution_count": 1009,
   "id": "dd29c081-1104-4a7a-9c58-2ca34c62aef1",
   "metadata": {
    "tags": []
   },
   "outputs": [
    {
     "data": {
      "text/html": [
       "<div>\n",
       "<style scoped>\n",
       "    .dataframe tbody tr th:only-of-type {\n",
       "        vertical-align: middle;\n",
       "    }\n",
       "\n",
       "    .dataframe tbody tr th {\n",
       "        vertical-align: top;\n",
       "    }\n",
       "\n",
       "    .dataframe thead th {\n",
       "        text-align: right;\n",
       "    }\n",
       "</style>\n",
       "<table border=\"1\" class=\"dataframe\">\n",
       "  <thead>\n",
       "    <tr style=\"text-align: right;\">\n",
       "      <th></th>\n",
       "      <th>Survived</th>\n",
       "      <th>Pclass</th>\n",
       "      <th>Sex</th>\n",
       "      <th>Fare</th>\n",
       "      <th>Embarked</th>\n",
       "      <th>label</th>\n",
       "      <th>cabin_type</th>\n",
       "      <th>status</th>\n",
       "      <th>age_cat</th>\n",
       "      <th>is_alone</th>\n",
       "      <th>age*class</th>\n",
       "    </tr>\n",
       "    <tr>\n",
       "      <th>PassengerId</th>\n",
       "      <th></th>\n",
       "      <th></th>\n",
       "      <th></th>\n",
       "      <th></th>\n",
       "      <th></th>\n",
       "      <th></th>\n",
       "      <th></th>\n",
       "      <th></th>\n",
       "      <th></th>\n",
       "      <th></th>\n",
       "      <th></th>\n",
       "    </tr>\n",
       "  </thead>\n",
       "  <tbody>\n",
       "    <tr>\n",
       "      <th>1</th>\n",
       "      <td>0</td>\n",
       "      <td>3</td>\n",
       "      <td>male</td>\n",
       "      <td>0</td>\n",
       "      <td>0</td>\n",
       "      <td>A/5</td>\n",
       "      <td>n</td>\n",
       "      <td>Mr</td>\n",
       "      <td>2group</td>\n",
       "      <td>0</td>\n",
       "      <td>66.000000</td>\n",
       "    </tr>\n",
       "    <tr>\n",
       "      <th>2</th>\n",
       "      <td>1</td>\n",
       "      <td>1</td>\n",
       "      <td>female</td>\n",
       "      <td>3</td>\n",
       "      <td>1</td>\n",
       "      <td>rare</td>\n",
       "      <td>C</td>\n",
       "      <td>Mrs</td>\n",
       "      <td>4group</td>\n",
       "      <td>0</td>\n",
       "      <td>38.000000</td>\n",
       "    </tr>\n",
       "    <tr>\n",
       "      <th>3</th>\n",
       "      <td>1</td>\n",
       "      <td>3</td>\n",
       "      <td>female</td>\n",
       "      <td>1</td>\n",
       "      <td>0</td>\n",
       "      <td>SOTON</td>\n",
       "      <td>n</td>\n",
       "      <td>Miss</td>\n",
       "      <td>3group</td>\n",
       "      <td>1</td>\n",
       "      <td>78.000000</td>\n",
       "    </tr>\n",
       "    <tr>\n",
       "      <th>4</th>\n",
       "      <td>1</td>\n",
       "      <td>1</td>\n",
       "      <td>female</td>\n",
       "      <td>3</td>\n",
       "      <td>0</td>\n",
       "      <td>none</td>\n",
       "      <td>C</td>\n",
       "      <td>Mrs</td>\n",
       "      <td>4group</td>\n",
       "      <td>0</td>\n",
       "      <td>35.000000</td>\n",
       "    </tr>\n",
       "    <tr>\n",
       "      <th>5</th>\n",
       "      <td>0</td>\n",
       "      <td>3</td>\n",
       "      <td>male</td>\n",
       "      <td>1</td>\n",
       "      <td>0</td>\n",
       "      <td>none</td>\n",
       "      <td>n</td>\n",
       "      <td>Mr</td>\n",
       "      <td>4group</td>\n",
       "      <td>1</td>\n",
       "      <td>105.000000</td>\n",
       "    </tr>\n",
       "    <tr>\n",
       "      <th>6</th>\n",
       "      <td>0</td>\n",
       "      <td>3</td>\n",
       "      <td>male</td>\n",
       "      <td>1</td>\n",
       "      <td>2</td>\n",
       "      <td>none</td>\n",
       "      <td>n</td>\n",
       "      <td>Mr</td>\n",
       "      <td>3group</td>\n",
       "      <td>1</td>\n",
       "      <td>80.889885</td>\n",
       "    </tr>\n",
       "    <tr>\n",
       "      <th>7</th>\n",
       "      <td>0</td>\n",
       "      <td>1</td>\n",
       "      <td>male</td>\n",
       "      <td>3</td>\n",
       "      <td>0</td>\n",
       "      <td>none</td>\n",
       "      <td>E</td>\n",
       "      <td>Mr</td>\n",
       "      <td>6group</td>\n",
       "      <td>1</td>\n",
       "      <td>54.000000</td>\n",
       "    </tr>\n",
       "    <tr>\n",
       "      <th>8</th>\n",
       "      <td>0</td>\n",
       "      <td>3</td>\n",
       "      <td>male</td>\n",
       "      <td>2</td>\n",
       "      <td>0</td>\n",
       "      <td>none</td>\n",
       "      <td>n</td>\n",
       "      <td>Master</td>\n",
       "      <td>0group</td>\n",
       "      <td>0</td>\n",
       "      <td>6.000000</td>\n",
       "    </tr>\n",
       "    <tr>\n",
       "      <th>9</th>\n",
       "      <td>1</td>\n",
       "      <td>3</td>\n",
       "      <td>female</td>\n",
       "      <td>1</td>\n",
       "      <td>0</td>\n",
       "      <td>none</td>\n",
       "      <td>n</td>\n",
       "      <td>Mrs</td>\n",
       "      <td>3group</td>\n",
       "      <td>0</td>\n",
       "      <td>81.000000</td>\n",
       "    </tr>\n",
       "    <tr>\n",
       "      <th>10</th>\n",
       "      <td>1</td>\n",
       "      <td>2</td>\n",
       "      <td>female</td>\n",
       "      <td>2</td>\n",
       "      <td>1</td>\n",
       "      <td>none</td>\n",
       "      <td>n</td>\n",
       "      <td>Mrs</td>\n",
       "      <td>1group</td>\n",
       "      <td>0</td>\n",
       "      <td>28.000000</td>\n",
       "    </tr>\n",
       "  </tbody>\n",
       "</table>\n",
       "</div>"
      ],
      "text/plain": [
       "             Survived  Pclass     Sex  Fare  Embarked  label cabin_type  \\\n",
       "PassengerId                                                               \n",
       "1                   0       3    male     0         0    A/5          n   \n",
       "2                   1       1  female     3         1   rare          C   \n",
       "3                   1       3  female     1         0  SOTON          n   \n",
       "4                   1       1  female     3         0   none          C   \n",
       "5                   0       3    male     1         0   none          n   \n",
       "6                   0       3    male     1         2   none          n   \n",
       "7                   0       1    male     3         0   none          E   \n",
       "8                   0       3    male     2         0   none          n   \n",
       "9                   1       3  female     1         0   none          n   \n",
       "10                  1       2  female     2         1   none          n   \n",
       "\n",
       "             status age_cat  is_alone   age*class  \n",
       "PassengerId                                        \n",
       "1                Mr  2group         0   66.000000  \n",
       "2               Mrs  4group         0   38.000000  \n",
       "3              Miss  3group         1   78.000000  \n",
       "4               Mrs  4group         0   35.000000  \n",
       "5                Mr  4group         1  105.000000  \n",
       "6                Mr  3group         1   80.889885  \n",
       "7                Mr  6group         1   54.000000  \n",
       "8            Master  0group         0    6.000000  \n",
       "9               Mrs  3group         0   81.000000  \n",
       "10              Mrs  1group         0   28.000000  "
      ]
     },
     "execution_count": 1009,
     "metadata": {},
     "output_type": "execute_result"
    }
   ],
   "source": [
    "X_train.head(10)"
   ]
  },
  {
   "cell_type": "code",
   "execution_count": 1010,
   "id": "e7b7d775-6017-4528-ae40-719bbbe331bd",
   "metadata": {
    "tags": []
   },
   "outputs": [
    {
     "data": {
      "text/html": [
       "<div>\n",
       "<style scoped>\n",
       "    .dataframe tbody tr th:only-of-type {\n",
       "        vertical-align: middle;\n",
       "    }\n",
       "\n",
       "    .dataframe tbody tr th {\n",
       "        vertical-align: top;\n",
       "    }\n",
       "\n",
       "    .dataframe thead th {\n",
       "        text-align: right;\n",
       "    }\n",
       "</style>\n",
       "<table border=\"1\" class=\"dataframe\">\n",
       "  <thead>\n",
       "    <tr style=\"text-align: right;\">\n",
       "      <th></th>\n",
       "      <th>Pclass</th>\n",
       "      <th>Sex</th>\n",
       "      <th>Fare</th>\n",
       "      <th>Embarked</th>\n",
       "      <th>label</th>\n",
       "      <th>cabin_type</th>\n",
       "      <th>status</th>\n",
       "      <th>age_cat</th>\n",
       "      <th>is_alone</th>\n",
       "      <th>age*class</th>\n",
       "    </tr>\n",
       "    <tr>\n",
       "      <th>PassengerId</th>\n",
       "      <th></th>\n",
       "      <th></th>\n",
       "      <th></th>\n",
       "      <th></th>\n",
       "      <th></th>\n",
       "      <th></th>\n",
       "      <th></th>\n",
       "      <th></th>\n",
       "      <th></th>\n",
       "      <th></th>\n",
       "    </tr>\n",
       "  </thead>\n",
       "  <tbody>\n",
       "    <tr>\n",
       "      <th>892</th>\n",
       "      <td>3</td>\n",
       "      <td>male</td>\n",
       "      <td>0</td>\n",
       "      <td>2</td>\n",
       "      <td>none</td>\n",
       "      <td>n</td>\n",
       "      <td>Mr</td>\n",
       "      <td>3group</td>\n",
       "      <td>1</td>\n",
       "      <td>103.5</td>\n",
       "    </tr>\n",
       "    <tr>\n",
       "      <th>893</th>\n",
       "      <td>3</td>\n",
       "      <td>female</td>\n",
       "      <td>0</td>\n",
       "      <td>0</td>\n",
       "      <td>none</td>\n",
       "      <td>n</td>\n",
       "      <td>Mrs</td>\n",
       "      <td>5group</td>\n",
       "      <td>0</td>\n",
       "      <td>141.0</td>\n",
       "    </tr>\n",
       "    <tr>\n",
       "      <th>894</th>\n",
       "      <td>2</td>\n",
       "      <td>male</td>\n",
       "      <td>1</td>\n",
       "      <td>2</td>\n",
       "      <td>none</td>\n",
       "      <td>n</td>\n",
       "      <td>Mr</td>\n",
       "      <td>7group</td>\n",
       "      <td>1</td>\n",
       "      <td>124.0</td>\n",
       "    </tr>\n",
       "    <tr>\n",
       "      <th>895</th>\n",
       "      <td>3</td>\n",
       "      <td>male</td>\n",
       "      <td>1</td>\n",
       "      <td>0</td>\n",
       "      <td>none</td>\n",
       "      <td>n</td>\n",
       "      <td>Mr</td>\n",
       "      <td>3group</td>\n",
       "      <td>1</td>\n",
       "      <td>81.0</td>\n",
       "    </tr>\n",
       "    <tr>\n",
       "      <th>896</th>\n",
       "      <td>3</td>\n",
       "      <td>female</td>\n",
       "      <td>1</td>\n",
       "      <td>0</td>\n",
       "      <td>none</td>\n",
       "      <td>n</td>\n",
       "      <td>Mrs</td>\n",
       "      <td>2group</td>\n",
       "      <td>0</td>\n",
       "      <td>66.0</td>\n",
       "    </tr>\n",
       "    <tr>\n",
       "      <th>897</th>\n",
       "      <td>3</td>\n",
       "      <td>male</td>\n",
       "      <td>1</td>\n",
       "      <td>0</td>\n",
       "      <td>none</td>\n",
       "      <td>n</td>\n",
       "      <td>Mr</td>\n",
       "      <td>1group</td>\n",
       "      <td>1</td>\n",
       "      <td>42.0</td>\n",
       "    </tr>\n",
       "    <tr>\n",
       "      <th>898</th>\n",
       "      <td>3</td>\n",
       "      <td>female</td>\n",
       "      <td>0</td>\n",
       "      <td>2</td>\n",
       "      <td>none</td>\n",
       "      <td>n</td>\n",
       "      <td>Miss</td>\n",
       "      <td>3group</td>\n",
       "      <td>1</td>\n",
       "      <td>90.0</td>\n",
       "    </tr>\n",
       "    <tr>\n",
       "      <th>899</th>\n",
       "      <td>2</td>\n",
       "      <td>male</td>\n",
       "      <td>2</td>\n",
       "      <td>0</td>\n",
       "      <td>none</td>\n",
       "      <td>n</td>\n",
       "      <td>Mr</td>\n",
       "      <td>3group</td>\n",
       "      <td>0</td>\n",
       "      <td>52.0</td>\n",
       "    </tr>\n",
       "    <tr>\n",
       "      <th>900</th>\n",
       "      <td>3</td>\n",
       "      <td>female</td>\n",
       "      <td>0</td>\n",
       "      <td>1</td>\n",
       "      <td>none</td>\n",
       "      <td>n</td>\n",
       "      <td>Mrs</td>\n",
       "      <td>2group</td>\n",
       "      <td>1</td>\n",
       "      <td>54.0</td>\n",
       "    </tr>\n",
       "    <tr>\n",
       "      <th>901</th>\n",
       "      <td>3</td>\n",
       "      <td>male</td>\n",
       "      <td>2</td>\n",
       "      <td>0</td>\n",
       "      <td>A/5</td>\n",
       "      <td>n</td>\n",
       "      <td>Mr</td>\n",
       "      <td>2group</td>\n",
       "      <td>0</td>\n",
       "      <td>63.0</td>\n",
       "    </tr>\n",
       "  </tbody>\n",
       "</table>\n",
       "</div>"
      ],
      "text/plain": [
       "             Pclass     Sex  Fare  Embarked label cabin_type status age_cat  \\\n",
       "PassengerId                                                                   \n",
       "892               3    male     0         2  none          n     Mr  3group   \n",
       "893               3  female     0         0  none          n    Mrs  5group   \n",
       "894               2    male     1         2  none          n     Mr  7group   \n",
       "895               3    male     1         0  none          n     Mr  3group   \n",
       "896               3  female     1         0  none          n    Mrs  2group   \n",
       "897               3    male     1         0  none          n     Mr  1group   \n",
       "898               3  female     0         2  none          n   Miss  3group   \n",
       "899               2    male     2         0  none          n     Mr  3group   \n",
       "900               3  female     0         1  none          n    Mrs  2group   \n",
       "901               3    male     2         0   A/5          n     Mr  2group   \n",
       "\n",
       "             is_alone  age*class  \n",
       "PassengerId                       \n",
       "892                 1      103.5  \n",
       "893                 0      141.0  \n",
       "894                 1      124.0  \n",
       "895                 1       81.0  \n",
       "896                 0       66.0  \n",
       "897                 1       42.0  \n",
       "898                 1       90.0  \n",
       "899                 0       52.0  \n",
       "900                 1       54.0  \n",
       "901                 0       63.0  "
      ]
     },
     "execution_count": 1010,
     "metadata": {},
     "output_type": "execute_result"
    }
   ],
   "source": [
    "X_test.head(10)"
   ]
  },
  {
   "cell_type": "code",
   "execution_count": 1011,
   "id": "efe61a27-9438-4462-900e-9b5420709536",
   "metadata": {
    "tags": []
   },
   "outputs": [
    {
     "data": {
      "image/png": "[encoded data removed]",
      "text/plain": [
       "<Figure size 1000x1000 with 2 Axes>"
      ]
     },
     "metadata": {},
     "output_type": "display_data"
    }
   ],
   "source": [
    "f,ax = plt.subplots(figsize=(10,10))\n",
    "sns.heatmap(X_train.corr(numeric_only=True),annot=True,linewidths=.1)\n",
    "plt.show()"
   ]
  },
  {
   "cell_type": "code",
   "execution_count": 1012,
   "id": "39bee2e5-c1b7-47dd-a776-d617886ea2d9",
   "metadata": {
    "tags": []
   },
   "outputs": [],
   "source": [
    "X_train = pd.get_dummies(X_train, drop_first=True)\n",
    "X_test = pd.get_dummies(X_test, drop_first=True)"
   ]
  },
  {
   "cell_type": "code",
   "execution_count": 1013,
   "id": "548bed7a-8cfa-4de8-a86c-c96d25a3f913",
   "metadata": {
    "tags": []
   },
   "outputs": [
    {
     "data": {
      "text/plain": [
       "Index(['Survived', 'Pclass', 'Fare', 'Embarked', 'is_alone', 'age*class',\n",
       "       'Sex_male', 'label_CA', 'label_SC/PARIS', 'label_SOTON', 'label_W/C',\n",
       "       'label_none', 'label_rare', 'cabin_type_B', 'cabin_type_C',\n",
       "       'cabin_type_D', 'cabin_type_E', 'cabin_type_F', 'cabin_type_G',\n",
       "       'cabin_type_n', 'status_Miss', 'status_Mr', 'status_Mrs',\n",
       "       'age_cat_1group', 'age_cat_2group', 'age_cat_3group', 'age_cat_4group',\n",
       "       'age_cat_5group', 'age_cat_6group', 'age_cat_7group', 'age_cat_8group'],\n",
       "      dtype='object')"
      ]
     },
     "execution_count": 1013,
     "metadata": {},
     "output_type": "execute_result"
    }
   ],
   "source": [
    "X_train.columns"
   ]
  },
  {
   "cell_type": "code",
   "execution_count": 1014,
   "id": "edf1538b-6922-4277-8b50-512ff300fb5f",
   "metadata": {
    "tags": []
   },
   "outputs": [
    {
     "data": {
      "text/plain": [
       "Index(['Pclass', 'Fare', 'Embarked', 'is_alone', 'age*class', 'Sex_male',\n",
       "       'label_CA', 'label_SC/PARIS', 'label_SOTON', 'label_W/C', 'label_none',\n",
       "       'label_rare', 'cabin_type_B', 'cabin_type_C', 'cabin_type_D',\n",
       "       'cabin_type_E', 'cabin_type_F', 'cabin_type_G', 'cabin_type_n',\n",
       "       'status_Miss', 'status_Mr', 'status_Mrs', 'age_cat_1group',\n",
       "       'age_cat_2group', 'age_cat_3group', 'age_cat_4group', 'age_cat_5group',\n",
       "       'age_cat_6group', 'age_cat_7group', 'age_cat_8group'],\n",
       "      dtype='object')"
      ]
     },
     "execution_count": 1014,
     "metadata": {},
     "output_type": "execute_result"
    }
   ],
   "source": [
    "X_test.columns"
   ]
  },
  {
   "cell_type": "code",
   "execution_count": 1015,
   "id": "297c86b7-d1a7-47a4-9b9f-4fcadb78ce8a",
   "metadata": {
    "tags": []
   },
   "outputs": [],
   "source": [
    "X_train.to_csv(\"data/X_train.csv\")\n",
    "X_test.to_csv(\"data/X_test.csv\")"
   ]
  },
  {
   "cell_type": "code",
   "execution_count": 1016,
   "id": "3af01fc4-b228-4106-b597-cbc358177c4a",
   "metadata": {
    "tags": []
   },
   "outputs": [
    {
     "data": {
      "text/plain": [
       "((891, 31), (418, 30))"
      ]
     },
     "execution_count": 1016,
     "metadata": {},
     "output_type": "execute_result"
    }
   ],
   "source": [
    "X_train.shape, X_test.shape"
   ]
  },
  {
   "cell_type": "code",
   "execution_count": null,
   "id": "e584b0bb-e9d0-4380-94b8-16e7c1a03803",
   "metadata": {},
   "outputs": [],
   "source": []
  }
 ],
 "metadata": {
  "kernelspec": {
   "display_name": "Python 3 (ipykernel)",
   "language": "python",
   "name": "python3"
  },
  "language_info": {
   "codemirror_mode": {
    "name": "ipython",
    "version": 3
   },
   "file_extension": ".py",
   "mimetype": "text/x-python",
   "name": "python",
   "nbconvert_exporter": "python",
   "pygments_lexer": "ipython3",
   "version": "3.10.12"
  }
 },
 "nbformat": 4,
 "nbformat_minor": 5
}
